{
  "cells": [
    {
      "cell_type": "markdown",
      "metadata": {
        "id": "SBZ697MSdfGi"
      },
      "source": [
        "# Model 1: Text Classification with Logistic Regression using `sklearn`\n",
        "\n",
        "Our goal is to build a ML model that uses the features to predict the label:\n",
        "- **Feature:** A bag of words (questions from Quora users; `question_text` in the `train.csv` and `test.csv` datasets)\n",
        "- **Label (Binary):** Insincere (TRUE or FALSE; `target` in the `train.csv` dataset)"
      ]
    },
    {
      "cell_type": "markdown",
      "metadata": {
        "id": "kbQTAsWxdfGs"
      },
      "source": [
        "## Step 1: Import libraries\n",
        "\n",
        "Ensure that all the required libraries have been installed by running `pip install <LIBRARY>` in the terminal."
      ]
    },
    {
      "cell_type": "code",
      "execution_count": null,
      "metadata": {
        "id": "28mRFFHedfGx"
      },
      "outputs": [],
      "source": [
        "import pandas as pd\n",
        "import numpy as np\n",
        "\n",
        "import matplotlib.pyplot as plt\n",
        "import seaborn as sns\n",
        "\n",
        "%matplotlib inline\n",
        "plt.style.use('ggplot')\n",
        "\n",
        "from sklearn.model_selection import train_test_split\n",
        "from sklearn.feature_extraction.text import TfidfVectorizer\n",
        "from sklearn.preprocessing import StandardScaler\n",
        "from sklearn.linear_model import LogisticRegression\n",
        "from sklearn.svm import SVC\n",
        "from sklearn.naive_bayes import BernoulliNB\n",
        "from sklearn.metrics import confusion_matrix, roc_curve, roc_auc_score, f1_score\n",
        "from sklearn.model_selection import cross_val_score"
      ]
    },
    {
      "cell_type": "markdown",
      "metadata": {
        "id": "Yr6aFg5bdfG3"
      },
      "source": [
        "## Step 2: Load data"
      ]
    },
    {
      "cell_type": "code",
      "execution_count": null,
      "metadata": {
        "id": "LXxI8HS4dfG7",
        "colab": {
          "base_uri": "https://localhost:8080/",
          "height": 206
        },
        "outputId": "2dceb49e-83e1-47d3-8a12-dc5c7feeffba"
      },
      "outputs": [
        {
          "output_type": "execute_result",
          "data": {
            "text/plain": [
              "                    qid                                      question_text\n",
              "0  0000163e3ea7c7a74cd7  Why do so many women become so rude and arroga...\n",
              "1  00002bd4fb5d505b9161  When should I apply for RV college of engineer...\n",
              "2  00007756b4a147d2b0b3  What is it really like to be a nurse practitio...\n",
              "3  000086e4b7e1c7146103                             Who are entrepreneurs?\n",
              "4  0000c4c3fbe8785a3090   Is education really making good people nowadays?"
            ],
            "text/html": [
              "\n",
              "  <div id=\"df-a1e6ae30-215d-46fd-a95b-b181bde248ec\">\n",
              "    <div class=\"colab-df-container\">\n",
              "      <div>\n",
              "<style scoped>\n",
              "    .dataframe tbody tr th:only-of-type {\n",
              "        vertical-align: middle;\n",
              "    }\n",
              "\n",
              "    .dataframe tbody tr th {\n",
              "        vertical-align: top;\n",
              "    }\n",
              "\n",
              "    .dataframe thead th {\n",
              "        text-align: right;\n",
              "    }\n",
              "</style>\n",
              "<table border=\"1\" class=\"dataframe\">\n",
              "  <thead>\n",
              "    <tr style=\"text-align: right;\">\n",
              "      <th></th>\n",
              "      <th>qid</th>\n",
              "      <th>question_text</th>\n",
              "    </tr>\n",
              "  </thead>\n",
              "  <tbody>\n",
              "    <tr>\n",
              "      <th>0</th>\n",
              "      <td>0000163e3ea7c7a74cd7</td>\n",
              "      <td>Why do so many women become so rude and arroga...</td>\n",
              "    </tr>\n",
              "    <tr>\n",
              "      <th>1</th>\n",
              "      <td>00002bd4fb5d505b9161</td>\n",
              "      <td>When should I apply for RV college of engineer...</td>\n",
              "    </tr>\n",
              "    <tr>\n",
              "      <th>2</th>\n",
              "      <td>00007756b4a147d2b0b3</td>\n",
              "      <td>What is it really like to be a nurse practitio...</td>\n",
              "    </tr>\n",
              "    <tr>\n",
              "      <th>3</th>\n",
              "      <td>000086e4b7e1c7146103</td>\n",
              "      <td>Who are entrepreneurs?</td>\n",
              "    </tr>\n",
              "    <tr>\n",
              "      <th>4</th>\n",
              "      <td>0000c4c3fbe8785a3090</td>\n",
              "      <td>Is education really making good people nowadays?</td>\n",
              "    </tr>\n",
              "  </tbody>\n",
              "</table>\n",
              "</div>\n",
              "      <button class=\"colab-df-convert\" onclick=\"convertToInteractive('df-a1e6ae30-215d-46fd-a95b-b181bde248ec')\"\n",
              "              title=\"Convert this dataframe to an interactive table.\"\n",
              "              style=\"display:none;\">\n",
              "        \n",
              "  <svg xmlns=\"http://www.w3.org/2000/svg\" height=\"24px\"viewBox=\"0 0 24 24\"\n",
              "       width=\"24px\">\n",
              "    <path d=\"M0 0h24v24H0V0z\" fill=\"none\"/>\n",
              "    <path d=\"M18.56 5.44l.94 2.06.94-2.06 2.06-.94-2.06-.94-.94-2.06-.94 2.06-2.06.94zm-11 1L8.5 8.5l.94-2.06 2.06-.94-2.06-.94L8.5 2.5l-.94 2.06-2.06.94zm10 10l.94 2.06.94-2.06 2.06-.94-2.06-.94-.94-2.06-.94 2.06-2.06.94z\"/><path d=\"M17.41 7.96l-1.37-1.37c-.4-.4-.92-.59-1.43-.59-.52 0-1.04.2-1.43.59L10.3 9.45l-7.72 7.72c-.78.78-.78 2.05 0 2.83L4 21.41c.39.39.9.59 1.41.59.51 0 1.02-.2 1.41-.59l7.78-7.78 2.81-2.81c.8-.78.8-2.07 0-2.86zM5.41 20L4 18.59l7.72-7.72 1.47 1.35L5.41 20z\"/>\n",
              "  </svg>\n",
              "      </button>\n",
              "      \n",
              "  <style>\n",
              "    .colab-df-container {\n",
              "      display:flex;\n",
              "      flex-wrap:wrap;\n",
              "      gap: 12px;\n",
              "    }\n",
              "\n",
              "    .colab-df-convert {\n",
              "      background-color: #E8F0FE;\n",
              "      border: none;\n",
              "      border-radius: 50%;\n",
              "      cursor: pointer;\n",
              "      display: none;\n",
              "      fill: #1967D2;\n",
              "      height: 32px;\n",
              "      padding: 0 0 0 0;\n",
              "      width: 32px;\n",
              "    }\n",
              "\n",
              "    .colab-df-convert:hover {\n",
              "      background-color: #E2EBFA;\n",
              "      box-shadow: 0px 1px 2px rgba(60, 64, 67, 0.3), 0px 1px 3px 1px rgba(60, 64, 67, 0.15);\n",
              "      fill: #174EA6;\n",
              "    }\n",
              "\n",
              "    [theme=dark] .colab-df-convert {\n",
              "      background-color: #3B4455;\n",
              "      fill: #D2E3FC;\n",
              "    }\n",
              "\n",
              "    [theme=dark] .colab-df-convert:hover {\n",
              "      background-color: #434B5C;\n",
              "      box-shadow: 0px 1px 3px 1px rgba(0, 0, 0, 0.15);\n",
              "      filter: drop-shadow(0px 1px 2px rgba(0, 0, 0, 0.3));\n",
              "      fill: #FFFFFF;\n",
              "    }\n",
              "  </style>\n",
              "\n",
              "      <script>\n",
              "        const buttonEl =\n",
              "          document.querySelector('#df-a1e6ae30-215d-46fd-a95b-b181bde248ec button.colab-df-convert');\n",
              "        buttonEl.style.display =\n",
              "          google.colab.kernel.accessAllowed ? 'block' : 'none';\n",
              "\n",
              "        async function convertToInteractive(key) {\n",
              "          const element = document.querySelector('#df-a1e6ae30-215d-46fd-a95b-b181bde248ec');\n",
              "          const dataTable =\n",
              "            await google.colab.kernel.invokeFunction('convertToInteractive',\n",
              "                                                     [key], {});\n",
              "          if (!dataTable) return;\n",
              "\n",
              "          const docLinkHtml = 'Like what you see? Visit the ' +\n",
              "            '<a target=\"_blank\" href=https://colab.research.google.com/notebooks/data_table.ipynb>data table notebook</a>'\n",
              "            + ' to learn more about interactive tables.';\n",
              "          element.innerHTML = '';\n",
              "          dataTable['output_type'] = 'display_data';\n",
              "          await google.colab.output.renderOutput(dataTable, element);\n",
              "          const docLink = document.createElement('div');\n",
              "          docLink.innerHTML = docLinkHtml;\n",
              "          element.appendChild(docLink);\n",
              "        }\n",
              "      </script>\n",
              "    </div>\n",
              "  </div>\n",
              "  "
            ]
          },
          "metadata": {},
          "execution_count": 2
        }
      ],
      "source": [
        "# loading train and test datasets\n",
        "train = pd.read_csv(\"train.csv\")\n",
        "test = pd.read_csv(\"test.csv\")\n",
        "\n",
        "# printing the first 5 rows of train dataset\n",
        "train.head()\n",
        "\n",
        "# printing the first 5 rows of test dataset\n",
        "test.head()"
      ]
    },
    {
      "cell_type": "markdown",
      "metadata": {
        "id": "O-GUzBrkdfG9"
      },
      "source": [
        "## Step 3: Perform Text Vectorization\n",
        "\n",
        "Text Vectorization is the process of converting text into numerical representation.\n",
        "\n",
        "For our use case, we are converting `question_text` to a matrix of TF-IDF (which measures the frequency of a word in a text against its overall frequency in the corpus) features."
      ]
    },
    {
      "cell_type": "code",
      "execution_count": null,
      "metadata": {
        "id": "SWXHUKeSdfHA"
      },
      "outputs": [],
      "source": [
        "text_vectorizer = TfidfVectorizer(max_features=2000)\n",
        "\n",
        "train_vector = text_vectorizer.fit_transform(train[\"question_text\"])\n",
        "test_vector = text_vectorizer.transform(test[\"question_text\"])"
      ]
    },
    {
      "cell_type": "markdown",
      "metadata": {
        "id": "-glRO-HgdfHC"
      },
      "source": [
        "## Step 4: Splitting X and Y into training and validation sets\n",
        "\n",
        "As Quora provided the train and test datasets separately, there is no need to split X and Y into training and testing sets. Instead, X and Y are split into training and validation sets.\n",
        "\n",
        "The `stratify` argument is used for Y to be split into training and validation sets as they are in the original dataset."
      ]
    },
    {
      "cell_type": "code",
      "execution_count": null,
      "metadata": {
        "id": "Vbs3oiihdfHE"
      },
      "outputs": [],
      "source": [
        "X_train,X_val,y_train,y_val = train_test_split(\n",
        "    train_vector,\n",
        "    train[\"target\"],\n",
        "    test_size=0.2,\n",
        "    stratify=train[\"target\"],\n",
        "    random_state=42)"
      ]
    },
    {
      "cell_type": "markdown",
      "metadata": {
        "id": "IM5Jea1AdfHG"
      },
      "source": [
        "## Step 5: Choose classifiers\n",
        "\n",
        "The three chosen classifers are the following models:\n",
        "\n",
        "    - Logistic Regression\n",
        "    - SVM with linear kernel\n",
        "    - Bernoulli"
      ]
    },
    {
      "cell_type": "code",
      "execution_count": null,
      "metadata": {
        "id": "tkaHyYd0dfHI"
      },
      "outputs": [],
      "source": [
        "# setting up the Logistic Regression model\n",
        "log_model = LogisticRegression(solver='lbfgs', max_iter=3000)\n",
        "\n",
        "# setting up the SVM model with linear kernel\n",
        "svm_model = SVC(kernel='rbf')\n",
        "\n",
        "# setting up the Bernoulli model\n",
        "bernoulli_model = BernoulliNB()"
      ]
    },
    {
      "cell_type": "markdown",
      "metadata": {
        "id": "Dc63QX5EdfHL"
      },
      "source": [
        "## Step 6: Train the chosen classifiers and calculate metrics\n",
        "\n",
        "The metrics that are used to analyze the performance are:\n",
        "\n",
        "    - F-1 Score\n",
        "    - ROC AUC Score\n",
        "\n",
        "Along with these two scores, the confusion matrix is displayed with a _heatmap_."
      ]
    },
    {
      "cell_type": "code",
      "execution_count": null,
      "metadata": {
        "colab": {
          "base_uri": "https://localhost:8080/",
          "height": 773
        },
        "id": "VVFiHP5DdfHM",
        "outputId": "21941d2b-fe7c-4cd1-a235-f822b33f2589"
      },
      "outputs": [
        {
          "output_type": "stream",
          "name": "stdout",
          "text": [
            "[Text Classification using LogisticRegression(max_iter=3000)]\n",
            "   1) F1 score: 0.47\n",
            "      - Mean F1 score for train set in cross validation: 0.47\n",
            "      - Standard deviation of F1 score for train set in cross validation: 0.00\n",
            "      - Mean F1 score for test set in cross validation: 0.47\n",
            "      - Standard deviation of F1 score for test set in cross validation: 0.01\n",
            "   2) ROC AUC score: 0.93\n",
            "      - Mean ROC AUC score for train set in cross validation: 0.93\n",
            "      - Standard deviation of ROC AUC score for train set in cross validation: 0.00\n",
            "      - Mean ROC AUC score for test set in cross validation: 0.92\n",
            "      - Standard deviation of ROC AUC score for test set in cross validation: 0.00\n",
            "   3) ROC Curve\n"
          ]
        },
        {
          "output_type": "display_data",
          "data": {
            "text/plain": [
              "<Figure size 432x288 with 1 Axes>"
            ],
            "image/png": "[encoded data removed]"
          },
          "metadata": {}
        },
        {
          "output_type": "stream",
          "name": "stdout",
          "text": [
            "   4) Confusion Matrix\n"
          ]
        },
        {
          "output_type": "display_data",
          "data": {
            "text/plain": [
              "<Figure size 432x288 with 2 Axes>"
            ],
            "image/png": "[encoded data removed]"
          },
          "metadata": {}
        }
      ],
      "source": [
        "# scaling X\n",
        "scaler_X = StandardScaler(with_mean=False)\n",
        "X_train_scaled = scaler_X.fit_transform(X_train)\n",
        "X_val_scaled = scaler_X.transform(X_val)\n",
        "\n",
        "# creating a method that train the model, predict using the model, and calculate metrics\n",
        "def model_and_predict(model, X_train_scaled, y_train, X_val_scaled, y_val):\n",
        "    model.fit(X_train_scaled, y_train)\n",
        "    y_pred = model.predict(X_val_scaled)\n",
        "    y_pred_auc = model.predict_proba(X_val_scaled) # auc score uses predict_proba() under the hood, not predict()\n",
        "\n",
        "    f1 = f1_score(y_val, y_pred)\n",
        "    f1_train_cv = cross_val_score(model, X_train_scaled, y_train, scoring=\"f1\", cv=10)\n",
        "    mean_f1_train_cv = f1_train_cv.mean()\n",
        "    std_f1_train_cv = f1_train_cv.std()\n",
        "    f1_test_cv = cross_val_score(model, X_val_scaled, y_val, scoring=\"f1\", cv=10)\n",
        "    mean_f1_val_cv = f1_test_cv.mean()\n",
        "    std_f1_val_cv = f1_test_cv.std()\n",
        "    fpr, tpr, _ = roc_curve(y_val, y_pred_auc[:, 1])\n",
        "    auc = roc_auc_score(y_val, y_pred_auc[:, 1])\n",
        "    auc_train_cv = cross_val_score(model, X_train_scaled, y_train, scoring=\"roc_auc\", cv=10)\n",
        "    mean_auc_train_cv = auc_train_cv.mean()\n",
        "    std_auc_train_cv = auc_train_cv.std()\n",
        "    auc_val_cv = cross_val_score(model, X_val_scaled, y_val, scoring=\"roc_auc\", cv=10)\n",
        "    mean_auc_val_cv = auc_val_cv.mean()\n",
        "    std_auc_val_cv = auc_val_cv.std()\n",
        "    conf_matrix = confusion_matrix(y_val, y_pred)\n",
        "\n",
        "    print(\"[Text Classification using %s]\"%(model))\n",
        "    print(\"   1) F1 score: %.2f\"%(f1))\n",
        "    print(\"      - Mean F1 score for train set in cross validation: %.2f\"%(mean_f1_train_cv))\n",
        "    print(\"      - Standard deviation of F1 score for train set in cross validation: %.2f\"%(std_f1_train_cv))\n",
        "    print(\"      - Mean F1 score for test set in cross validation: %.2f\"%(mean_f1_val_cv))\n",
        "    print(\"      - Standard deviation of F1 score for test set in cross validation: %.2f\"%(std_f1_val_cv))\n",
        "    print(\"   2) ROC AUC score: %.2f\"%(auc))\n",
        "    print(\"      - Mean ROC AUC score for train set in cross validation: %.2f\"%(mean_auc_train_cv))\n",
        "    print(\"      - Standard deviation of ROC AUC score for train set in cross validation: %.2f\"%(std_auc_train_cv))\n",
        "    print(\"      - Mean ROC AUC score for test set in cross validation: %.2f\"%(mean_auc_val_cv))\n",
        "    print(\"      - Standard deviation of ROC AUC score for test set in cross validation: %.2f\"%(std_auc_val_cv))\n",
        "    print(\"   3) ROC Curve\")\n",
        "    plt.plot(fpr, tpr, label='AUC Score = %.2f'%(auc))\n",
        "    plt.ylabel('True Positive Rate')\n",
        "    plt.xlabel('False Positive Rate')\n",
        "    plt.legend(loc=4)\n",
        "    plt.show()\n",
        "    # plt.savefig('C:/Users/Soohyun/Desktop/UW MGTE \\'23/YEAR 4/4B/MSCI 546/Term Project/quora-insincere-questions/1_baseline_classification/images/roc_curve_log_reg.png')\n",
        "    # plt.close()\n",
        "    print(\"   4) Confusion Matrix\")\n",
        "    group_names = ['True Negative','False Positive','False Negative','True Positive']\n",
        "    group_counts = [\"{0:0.0f}\".format(value) for value in conf_matrix.flatten()]\n",
        "    group_percentages = [\"{0:.2%}\".format(value) for value in conf_matrix.flatten()/np.sum(conf_matrix)]\n",
        "    labels = [f\"{v1}\\n{v2}\\n{v3}\" for v1, v2, v3 in zip(group_names, group_counts, group_percentages)]\n",
        "    labels = np.asarray(labels).reshape(2,2)\n",
        "    sns.heatmap(conf_matrix, annot=labels, fmt='')\n",
        "    plt.title(\"Confusion Matrix\")\n",
        "    plt.show()\n",
        "    # plt.savefig('C:/Users/Soohyun/Desktop/UW MGTE \\'23/YEAR 4/4B/MSCI 546/Term Project/quora-insincere-questions/1_baseline_classification/images/confusion_matrix_log_reg.png')\n",
        "    # plt.close()\n",
        "\n",
        "# calling method above for every model but commenting it out to reduce computational time\n",
        "# baseline_models = [log_model, svm_model, bernoulli_model]\n",
        "\n",
        "# calling method above for logistic regression model only\n",
        "baseline_models = [log_model]\n",
        "for model in baseline_models:\n",
        "    model_and_predict(model, X_train_scaled, y_train, X_val_scaled, y_val)"
      ]
    },
    {
      "cell_type": "markdown",
      "metadata": {
        "id": "noljXCAndfHO"
      },
      "source": [
        "## Step 7: Predict test dataset using the \"best\" classifier\n",
        "\n",
        "Now that the performance of each classifier has been observed, the test dataset is ready to be predicted using the classifier with the \"best\" metrics."
      ]
    },
    {
      "cell_type": "code",
      "execution_count": null,
      "metadata": {
        "id": "g_c2QMEsdfHQ"
      },
      "outputs": [],
      "source": [
        "result = np.array(np.mean(log_model.predict_proba(test_vector)[:, 1], axis=0) > 0.5, dtype=int)\n",
        "result_df = pd.DataFrame({\"qid\": test[\"qid\"], \"prediction\": result})\n",
        "result_df.to_csv(\"result.csv\", index=False)"
      ]
    }
  ],
  "metadata": {
    "colab": {
      "provenance": []
    },
    "kernelspec": {
      "display_name": "Python 3",
      "language": "python",
      "name": "python3"
    },
    "language_info": {
      "name": "python",
      "version": "3.10.5"
    },
    "vscode": {
      "interpreter": {
        "hash": "787ae017fa22a3d9ce9bac8a0aea523ecd295336d18ae2230ac9ba7e19112084"
      }
    }
  },
  "nbformat": 4,
  "nbformat_minor": 0
}