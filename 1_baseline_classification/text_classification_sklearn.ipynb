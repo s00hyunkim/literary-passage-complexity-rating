{
 "cells": [
  {
   "attachments": {},
   "cell_type": "markdown",
   "metadata": {},
   "source": [
    "# Model 1: Text Classification with `sklearn`\n",
    "\n",
    "Our goal is to build a ML model that uses the features to predict the label:\n",
    "- **Feature:** A bag of words (questions from Quora users; `question_text` in the `train.csv` and `test.csv` datasets)\n",
    "- **Label (Binary):** Insincere (TRUE or FALSE; `target` in the `train.csv` dataset)"
   ]
  },
  {
   "attachments": {},
   "cell_type": "markdown",
   "metadata": {},
   "source": [
    "## Step 1: Import libraries\n",
    "\n",
    "Ensure that all the required libraries have been installed by running `pip install <LIBRARY>` in the terminal."
   ]
  },
  {
   "cell_type": "code",
   "execution_count": null,
   "metadata": {},
   "outputs": [],
   "source": [
    "import pandas as pd\n",
    "import numpy as np\n",
    "\n",
    "import matplotlib.pyplot as plt\n",
    "import seaborn as sns\n",
    "\n",
    "%matplotlib inline\n",
    "plt.style.use('ggplot')\n",
    "\n",
    "from sklearn.model_selection import train_test_split\n",
    "from sklearn.feature_extraction.text import TfidfVectorizer\n",
    "from sklearn.preprocessing import StandardScaler\n",
    "from sklearn.linear_model import LogisticRegression\n",
    "from sklearn.svm import SVC\n",
    "from sklearn.naive_bayes import BernoulliNB\n",
    "from sklearn.metrics import confusion_matrix, roc_curve, roc_auc_score, f1_score"
   ]
  },
  {
   "attachments": {},
   "cell_type": "markdown",
   "metadata": {},
   "source": [
    "## Step 2: Load data"
   ]
  },
  {
   "cell_type": "code",
   "execution_count": null,
   "metadata": {},
   "outputs": [],
   "source": [
    "# loading train and test datasets\n",
    "train = pd.read_csv(\"train.csv\")\n",
    "test = pd.read_csv(\"test.csv\")\n",
    "\n",
    "# printing the first 5 rows of train dataset\n",
    "train.head()\n",
    "\n",
    "# printing the first 5 rows of test dataset\n",
    "test.head()"
   ]
  },
  {
   "attachments": {},
   "cell_type": "markdown",
   "metadata": {},
   "source": [
    "## Step 3: Perform Text Vectorization\n",
    "\n",
    "Text Vectorization is the process of converting text into numerical representation.\n",
    "\n",
    "For our use case, we are converting `question_text` to a matrix of TF-IDF (which measures the frequency of a word in a text against its overall frequency in the corpus) features."
   ]
  },
  {
   "cell_type": "code",
   "execution_count": null,
   "metadata": {},
   "outputs": [],
   "source": [
    "text_vectorizer = TfidfVectorizer()\n",
    "\n",
    "train_vector = text_vectorizer.fit_transform(train[\"question_text\"])\n",
    "test_vector = text_vectorizer.transform(test[\"question_text\"])"
   ]
  },
  {
   "attachments": {},
   "cell_type": "markdown",
   "metadata": {},
   "source": [
    "## Step 4: Splitting X and Y into training and validation sets\n",
    "\n",
    "As Quora provided the train and test datasets separately, there is no need to split X and Y into training and testing sets. Instead, X and Y are split into training and validation sets.\n",
    "\n",
    "The `stratify` argument is used for Y to be split into training and validation sets as they are in the original dataset."
   ]
  },
  {
   "cell_type": "code",
   "execution_count": null,
   "metadata": {},
   "outputs": [],
   "source": [
    "X_train,X_val,y_train,y_val = train_test_split(\n",
    "    train_vector,\n",
    "    train[\"target\"],\n",
    "    test_size=0.2,\n",
    "    stratify=train[\"target\"],\n",
    "    random_state=42)"
   ]
  },
  {
   "attachments": {},
   "cell_type": "markdown",
   "metadata": {},
   "source": [
    "## Step 5: Choose classifiers\n",
    "\n",
    "The three chosen classifers are the following models:\n",
    "\n",
    "    - Logistic Regression\n",
    "    - SVM with linear kernel\n",
    "    - Bernoulli"
   ]
  },
  {
   "cell_type": "code",
   "execution_count": null,
   "metadata": {},
   "outputs": [],
   "source": [
    "# setting up the Logistic Regression model\n",
    "log_model = LogisticRegression()\n",
    "\n",
    "# setting up the SVM model with linear kernel\n",
    "svm_model = SVC(kernel='rbf')\n",
    "\n",
    "# setting up the Bernoulli model\n",
    "bernoulli_model = BernoulliNB()"
   ]
  },
  {
   "attachments": {},
   "cell_type": "markdown",
   "metadata": {},
   "source": [
    "## Step 6: Train the chosen classifiers and calculate metrics\n",
    "\n",
    "The metrics that are used to analyze the performance are:\n",
    "\n",
    "    - Accuracy\n",
    "    - F1 Score\n",
    "\n",
    "Along with these two scores, the confusion matrix is displayed with a _heatmap_."
   ]
  },
  {
   "cell_type": "code",
   "execution_count": null,
   "metadata": {},
   "outputs": [],
   "source": [
    "# scaling X\n",
    "scaler_X = StandardScaler(with_mean=False)\n",
    "X_train_scaled = scaler_X.fit_transform(X_train)\n",
    "X_val_scaled = scaler_X.transform(X_val)\n",
    "\n",
    "# creating a method that train the model, predict using the model, and calculate metrics\n",
    "def model_and_predict(model, X_train_scaled, y_train, X_val_scaled, y_val):\n",
    "    model.fit(X_train_scaled, y_train)\n",
    "    y_pred = model.predict(X_val_scaled)\n",
    "\n",
    "    f1 = f1_score(y_val, y_pred)\n",
    "    fpr, tpr, _ = roc_curve(y_val, y_pred)\n",
    "    auc = roc_auc_score(y_val, y_pred)\n",
    "    conf_matrix = confusion_matrix(y_val, y_pred)\n",
    "\n",
    "    print(\"[Text Classification using %s]\"%(model))\n",
    "    print(\"   1) F1 score: %.2f\"%(f1))\n",
    "    print(\"   2) ROC AUC score: %.2f\"%(auc))\n",
    "    print(\"   3) ROC Curve -> Saved as \\\"roc_curve_log_reg.png\\\"\")\n",
    "    plt.plot(fpr, tpr, label='AUC Score = %.2f'%(auc))\n",
    "    plt.ylabel('True Positive Rate')\n",
    "    plt.xlabel('False Positive Rate')\n",
    "    plt.legend(loc=4)\n",
    "    plt.savefig('C:/Users/Soohyun/Desktop/UW MGTE \\'23/YEAR 4/4B/MSCI 546/Term Project/quora-insincere-questions/1_baseline_classification/images/roc_curve_log_reg.png')\n",
    "    plt.close()\n",
    "    print(\"   4) Confusion Matrix -> Saved as \\\"conf_matrix_log_reg.png\\\"\")\n",
    "    group_names = ['True Negative','False Positive','False Negative','True Positive']\n",
    "    group_counts = [\"{0:0.0f}\".format(value) for value in conf_matrix.flatten()]\n",
    "    group_percentages = [\"{0:.2%}\".format(value) for value in conf_matrix.flatten()/np.sum(conf_matrix)]\n",
    "    labels = [f\"{v1}\\n{v2}\\n{v3}\" for v1, v2, v3 in zip(group_names, group_counts, group_percentages)]\n",
    "    labels = np.asarray(labels).reshape(2,2)\n",
    "    sns.heatmap(conf_matrix, annot=labels, fmt='')\n",
    "    plt.title(\"Confusion Matrix\")\n",
    "    plt.savefig('C:/Users/Soohyun/Desktop/UW MGTE \\'23/YEAR 4/4B/MSCI 546/Term Project/quora-insincere-questions/1_baseline_classification/images/confusion_matrix_log_reg.png')\n",
    "    plt.close()\n",
    "\n",
    "# calling method above for every model\n",
    "baseline_models = [log_model, svm_model, bernoulli_model]\n",
    "for model in baseline_models:\n",
    "    model_and_predict(model, X_train_scaled, y_train, X_val_scaled, y_val)"
   ]
  },
  {
   "attachments": {},
   "cell_type": "markdown",
   "metadata": {},
   "source": [
    "## Step 7: Predict test dataset using the \"best\" classifier\n",
    "\n",
    "Now that the performance of each classifier has been observed, the test dataset is ready to be predicted using the classifier with the \"best\" metrics."
   ]
  },
  {
   "cell_type": "code",
   "execution_count": null,
   "metadata": {},
   "outputs": [],
   "source": [
    "result = np.array(np.mean(log_model.predict_proba(test_vector)[:, 1], axis=0) > 0.5, dtype=int)\n",
    "result_df = pd.DataFrame({\"qid\": test[\"qid\"], \"prediction\": result})\n",
    "result_df.to_csv(\"result.csv\", index=False)"
   ]
  }
 ],
 "metadata": {
  "kernelspec": {
   "display_name": "Python 3",
   "language": "python",
   "name": "python3"
  },
  "language_info": {
   "name": "python",
   "version": "3.10.5"
  },
  "orig_nbformat": 4,
  "vscode": {
   "interpreter": {
    "hash": "787ae017fa22a3d9ce9bac8a0aea523ecd295336d18ae2230ac9ba7e19112084"
   }
  }
 },
 "nbformat": 4,
 "nbformat_minor": 2
}
